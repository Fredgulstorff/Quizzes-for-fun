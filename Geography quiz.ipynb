{
 "cells": [
  {
   "cell_type": "code",
   "execution_count": 3,
   "id": "74f9d833-869f-46c3-8830-a6591f98baf9",
   "metadata": {},
   "outputs": [
    {
     "name": "stdout",
     "output_type": "stream",
     "text": [
      "What is the capital of Australia?\n",
      "1. Canberra\n",
      "2. Sydney\n",
      "3. Melbourne\n",
      "4. Perth\n"
     ]
    },
    {
     "name": "stdin",
     "output_type": "stream",
     "text": [
      "Enter your answer (1-4):  3\n"
     ]
    },
    {
     "name": "stdout",
     "output_type": "stream",
     "text": [
      "Incorrect.\n",
      "Which country has the largest area in the world?\n",
      "1. Russia\n",
      "2. China\n",
      "3. Canada\n",
      "4. USA\n"
     ]
    },
    {
     "name": "stdin",
     "output_type": "stream",
     "text": [
      "Enter your answer (1-4):  1\n"
     ]
    },
    {
     "name": "stdout",
     "output_type": "stream",
     "text": [
      "Correct!\n",
      "What is the longest river in the world?\n",
      "1. Nile\n",
      "2. Yangtze\n",
      "3. Amazon\n",
      "4. Yellow\n"
     ]
    },
    {
     "name": "stdin",
     "output_type": "stream",
     "text": [
      "Enter your answer (1-4):  1\n"
     ]
    },
    {
     "name": "stdout",
     "output_type": "stream",
     "text": [
      "Correct!\n",
      "What is the highest mountain peak in the world?\n",
      "1. Mount Everest\n",
      "2. K2\n",
      "3. Lhotse\n",
      "4. Makalu\n"
     ]
    },
    {
     "name": "stdin",
     "output_type": "stream",
     "text": [
      "Enter your answer (1-4):  1\n"
     ]
    },
    {
     "name": "stdout",
     "output_type": "stream",
     "text": [
      "Correct!\n",
      "What is the largest desert in the world?\n",
      "1. Antarctica\n",
      "2. Sahara\n",
      "3. Gobi\n",
      "4. Kalahari\n"
     ]
    },
    {
     "name": "stdin",
     "output_type": "stream",
     "text": [
      "Enter your answer (1-4):  1\n"
     ]
    },
    {
     "name": "stdout",
     "output_type": "stream",
     "text": [
      "Incorrect.\n",
      "What is the smallest country in the world by land area?\n",
      "1. Maldives\n",
      "2. Monaco\n",
      "3. San Marino\n",
      "4. Vatican City\n"
     ]
    },
    {
     "name": "stdin",
     "output_type": "stream",
     "text": [
      "Enter your answer (1-4):  4\n"
     ]
    },
    {
     "name": "stdout",
     "output_type": "stream",
     "text": [
      "Correct!\n",
      "What is the largest island in the world?\n",
      "1. Greenland\n",
      "2. Borneo\n",
      "3. Madagascar\n",
      "4. New Guinea\n"
     ]
    },
    {
     "name": "stdin",
     "output_type": "stream",
     "text": [
      "Enter your answer (1-4):  1\n"
     ]
    },
    {
     "name": "stdout",
     "output_type": "stream",
     "text": [
      "Correct!\n",
      "What is the deepest ocean in the world?\n",
      "1. Atlantic Ocean\n",
      "2. Indian Ocean\n",
      "3. Southern Ocean\n",
      "4. Pacific Ocean\n"
     ]
    },
    {
     "name": "stdin",
     "output_type": "stream",
     "text": [
      "Enter your answer (1-4):  2\n"
     ]
    },
    {
     "name": "stdout",
     "output_type": "stream",
     "text": [
      "Incorrect.\n",
      "Which country is known as the Land of Rising Sun?\n",
      "1. Japan\n",
      "2. South Korea\n",
      "3. North Korea\n",
      "4. China\n"
     ]
    },
    {
     "name": "stdin",
     "output_type": "stream",
     "text": [
      "Enter your answer (1-4):  1\n"
     ]
    },
    {
     "name": "stdout",
     "output_type": "stream",
     "text": [
      "Correct!\n",
      "What is the capital of France?\n",
      "1. Paris\n",
      "2. Marseille\n",
      "3. Lyon\n",
      "4. Toulouse\n"
     ]
    },
    {
     "name": "stdin",
     "output_type": "stream",
     "text": [
      "Enter your answer (1-4):  1\n"
     ]
    },
    {
     "name": "stdout",
     "output_type": "stream",
     "text": [
      "Correct!\n",
      "Your final score is: 7/10\n"
     ]
    }
   ],
   "source": [
    "titel = 'Team LERs Ugentlige Quiz'\n",
    "\n",
    "quiz = [\n",
    "    {\n",
    "        \"question\": \"What is the capital of Australia?\", \n",
    "        \"options\": [\"Canberra\", \"Sydney\", \"Melbourne\", \"Perth\"], \n",
    "        \"answer\": \"Canberra\"\n",
    "    }, \n",
    "    {\n",
    "        \"question\": \"Which country has the largest area in the world?\", \n",
    "        \"options\": [\"Russia\", \"China\", \"Canada\", \"USA\"], \n",
    "        \"answer\": \"Russia\"\n",
    "    }, \n",
    "    {\n",
    "        \"question\": \"What is the longest river in the world?\", \n",
    "        \"options\": [\"Nile\", \"Yangtze\", \"Amazon\", \"Yellow\"], \n",
    "        \"answer\": \"Nile\"\n",
    "    }, \n",
    "    {\n",
    "        \"question\": \"What is the highest mountain peak in the world?\", \n",
    "        \"options\": [\"Mount Everest\", \"K2\", \"Lhotse\", \"Makalu\"], \n",
    "        \"answer\": \"Mount Everest\"\n",
    "    }, \n",
    "    {\n",
    "        \"question\": \"What is the largest desert in the world?\", \n",
    "        \"options\": [\"Antarctica\", \"Sahara\", \"Gobi\", \"Kalahari\"], \n",
    "        \"answer\": \"Sahara\"\n",
    "    }, \n",
    "    {\n",
    "        \"question\": \"What is the smallest country in the world by land area?\", \n",
    "        \"options\": [\"Maldives\", \"Monaco\", \"San Marino\", \"Vatican City\"], \n",
    "        \"answer\": \"Vatican City\"\n",
    "    }, \n",
    "    {\n",
    "        \"question\": \"What is the largest island in the world?\", \n",
    "        \"options\": [\"Greenland\", \"Borneo\", \"Madagascar\", \"New Guinea\"], \n",
    "        \"answer\": \"Greenland\"\n",
    "    }, \n",
    "    {\n",
    "        \"question\": \"What is the deepest ocean in the world?\", \n",
    "        \"options\": [\"Atlantic Ocean\", \"Indian Ocean\", \"Southern Ocean\", \"Pacific Ocean\"], \n",
    "        \"answer\": \"Pacific Ocean\"\n",
    "    }, \n",
    "    {\n",
    "        \"question\": \"Which country is known as the Land of Rising Sun?\", \n",
    "        \"options\": [\"Japan\", \"South Korea\", \"North Korea\", \"China\"], \n",
    "        \"answer\": \"Japan\"\n",
    "    }, \n",
    "    {\n",
    "        \"question\": \"What is the capital of France?\", \n",
    "        \"options\": [\"Paris\", \"Marseille\", \"Lyon\", \"Toulouse\"], \n",
    "        \"answer\": \"Paris\"\n",
    "    }\n",
    "]\n",
    "\n",
    "score = 0\n",
    "\n",
    "for question in quiz:\n",
    "    print(question[\"question\"])\n",
    "    for i, option in enumerate(question[\"options\"]):\n",
    "        print(f\"{i + 1}. {option}\")\n",
    "    \n",
    "    answer = input(\"Enter your answer (1-4): \")\n",
    "    if question[\"options\"][int(answer) - 1] == question[\"answer\"]:\n",
    "        print(\"Correct!\")\n",
    "        score += 1\n",
    "    else:\n",
    "        print(\"Incorrect.\")\n",
    "\n",
    "print(f\"Your final score is: {score}/{len(quiz)}\")\n"
   ]
  },
  {
   "cell_type": "code",
   "execution_count": null,
   "id": "39f5c739-ed27-42e7-a570-597bba81e54e",
   "metadata": {},
   "outputs": [],
   "source": []
  }
 ],
 "metadata": {
  "kernelspec": {
   "display_name": "Python 3 (ipykernel)",
   "language": "python",
   "name": "python3"
  },
  "language_info": {
   "codemirror_mode": {
    "name": "ipython",
    "version": 3
   },
   "file_extension": ".py",
   "mimetype": "text/x-python",
   "name": "python",
   "nbconvert_exporter": "python",
   "pygments_lexer": "ipython3",
   "version": "3.10.8"
  }
 },
 "nbformat": 4,
 "nbformat_minor": 5
}
